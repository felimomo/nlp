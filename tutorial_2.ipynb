{
 "cells": [
  {
   "cell_type": "markdown",
   "metadata": {},
   "source": [
    "# Tutorial on Language Models\n",
    "\n",
    "Will be working with N-gram models (which are a statistical, not neural net, approach to language modelling). I'll follow:\n",
    "\n",
    "https://medium.com/swlh/language-modelling-with-nltk-20eac7e70853\n",
    "\n",
    "Language model: a probability distribution over sets of words (or sentences, paragraphs, etc). At least, this is very much the case for statistical language models---not yet clear to me if neural network-based models fit into this picture neatly.\n",
    "\n",
    "For simplicity (and to ease the computational complexity of the problem), we constrain our space of probability distributions to *Markovian* distributions, i.e. the probability of a word conditional on whatever came before only depends on the previous word. \n",
    "\n",
    "If we didn't erase \"stopwords\", then the Markov assumption would collapse the model (in many situations, at least) to a model of relative frequencies of words restricted to particular parts of speech. E.g. in \"... the X ...\", the distribution p(X | everything before) = p(X|the). I guess that, pretty much, the only thing that makes sense is to set p(X|the)=0 for all X which are a part of speech that wouldn't make sense here (e.g. a verb I guess), and otherwise p(X|the)=(renormalized) frequency of X in the training text. \n",
    "\n",
    "On the other hand, if we erase stop words, we can get a more 'informative' predecessor to X, and have a non-trivial distribution."
   ]
  },
  {
   "cell_type": "code",
   "execution_count": 1,
   "metadata": {},
   "outputs": [],
   "source": [
    "import nltk, re, pprint, string\n",
    "from nltk import word_tokenize, sent_tokenize\n",
    "from urllib import request\n",
    "\n",
    "string.punctuation = string.punctuation +'“'+'”'+'-'+'’'+'‘'+'—'\n",
    "string.punctuation = string.punctuation.replace('.', '')\n",
    "\n",
    "file = open('data/book1.txt', encoding = 'utf8').read()\n",
    "\n",
    "url = \"https://www.gutenberg.org/cache/epub/68283/pg68283.txt\"\n",
    "response = request.urlopen(url)\n",
    "cthulu_raw = response.read().decode('utf8')\n",
    "cthulu = nltk.Text(cthulu_raw)"
   ]
  },
  {
   "cell_type": "markdown",
   "metadata": {},
   "source": [
    "The period was removed from punctuation in order to be able to count sentences (i.e. we won't remove periods from the text)."
   ]
  },
  {
   "cell_type": "code",
   "execution_count": 2,
   "metadata": {},
   "outputs": [],
   "source": [
    "#preprocess data\n",
    "file_nl_removed = \"\"\n",
    "for line in file:\n",
    "  line_nl_removed = (\n",
    "    line.replace(\"\\n\", \" \").replace(\"  \", \" \")      \n",
    "    ) #removes newlines and double space\n",
    "  file_nl_removed += line_nl_removed\n",
    "file_p = \"\".join(\n",
    "  [char for char in file_nl_removed if char not in string.punctuation]\n",
    ")   #removes all special characters"
   ]
  },
  {
   "cell_type": "code",
   "execution_count": 3,
   "metadata": {},
   "outputs": [],
   "source": [
    "# some basic statistics about the text\n",
    "def basic_stats(file_obj_or_str):\n",
    "    sents = nltk.sent_tokenize(file_obj_or_str)\n",
    "    print(\"The number of sentences is\", len(sents)) \n",
    "    #prints the number of sentences\n",
    "    words = nltk.word_tokenize(file_obj_or_str)\n",
    "    print(\"The number of tokens is\", len(words)) \n",
    "    #prints the number of tokens\n",
    "    average_tokens = round(len(words)/len(sents))\n",
    "    print(\"The average number of tokens per sentence is\",\n",
    "    average_tokens) \n",
    "    #prints the average number of tokens per sentence\n",
    "    unique_tokens = set(words)\n",
    "    print(\"The number of unique tokens are\", len(unique_tokens)) \n",
    "    return words, sents\n",
    "    #prints the number of unique tokens"
   ]
  },
  {
   "cell_type": "code",
   "execution_count": 4,
   "metadata": {},
   "outputs": [
    {
     "name": "stdout",
     "output_type": "stream",
     "text": [
      "The number of sentences is 4335\n",
      "The number of tokens is 93364\n",
      "The average number of tokens per sentence is 22\n",
      "The number of unique tokens are 6486\n"
     ]
    }
   ],
   "source": [
    "words, sents = basic_stats(file_p)"
   ]
  },
  {
   "cell_type": "markdown",
   "metadata": {},
   "source": [
    "## N-gram business\n",
    "\n",
    "Now we start creating the necessary parts for an N-gram model for some values of N."
   ]
  },
  {
   "cell_type": "code",
   "execution_count": 13,
   "metadata": {},
   "outputs": [
    {
     "name": "stdout",
     "output_type": "stream",
     "text": [
      "\n",
      "        Most common 2-grams: [(['the', 'old'], 272), (['said', 'polly'], 226), (['the', 'little'], 218), (['going', 'to'], 190), (['mrs.', 'pepper'], 156)]\n",
      "        \n",
      "\n",
      "        Most common 3-grams: [(['o', 'dear', 'me'], 88), (['im', 'going', 'to'], 66), (['said', 'mrs.', 'pepper'], 55), (['on', 'the', 'floor'], 45), (['little', 'brown', 'house'], 42)]\n",
      "        \n",
      "\n",
      "        Most common 4-grams: [(['the', 'little', 'brown', 'house'], 35), (['the', 'middle', 'of', 'the'], 29), (['the', 'side', 'of', 'the'], 25), (['the', 'little', 'white', 'cat'], 20), (['o', 'dear', 'me', 'exclaimed'], 16)]\n",
      "        \n"
     ]
    },
    {
     "data": {
      "text/plain": [
       "{2: FreqDist({('the', 'old'): 272, ('said', 'polly'): 226, ('the', 'little'): 218, ('going', 'to'): 190, ('mrs.', 'pepper'): 156, ('dear', 'me'): 109, ('to', 'get'): 106, ('o', 'dear'): 103, ('said', 'mrs.'): 95, ('said', 'the'): 95, ...}),\n",
       " 3: FreqDist({('o', 'dear', 'me'): 88, ('im', 'going', 'to'): 66, ('said', 'mrs.', 'pepper'): 55, ('on', 'the', 'floor'): 45, ('little', 'brown', 'house'): 42, ('the', 'little', 'brown'): 38, ('the', 'old', 'kitchen'): 36, ('the', 'little', 'doctor'): 34, ('old', 'mr.', 'beebe'): 33, ('side', 'of', 'the'): 33, ...}),\n",
       " 4: FreqDist({('the', 'little', 'brown', 'house'): 35, ('the', 'middle', 'of', 'the'): 29, ('the', 'side', 'of', 'the'): 25, ('the', 'little', 'white', 'cat'): 20, ('o', 'dear', 'me', 'exclaimed'): 16, ('in', 'the', 'middle', 'of'): 15, ('i', 'dont', 'want', 'to'): 15, ('said', 'polly', 'with', 'a'): 15, ('said', 'old', 'mr.', 'beebe'): 13, ('the', 'project', 'gutenberg', 'literary'): 13, ...})}"
      ]
     },
     "execution_count": 13,
     "metadata": {},
     "output_type": "execute_result"
    }
   ],
   "source": [
    "from nltk.util import ngrams\n",
    "from nltk.corpus import stopwords\n",
    "stop_words = set(stopwords.words('english'))\n",
    "\n",
    "def generate_ngrams(sentences, n):\n",
    "    # sents = sentence-tokenized text (pretty much, list of sentences)\n",
    "    # n = order of the ngrams (e.g. 2 for bigrams)\n",
    "\n",
    "    tokenized_text =[\n",
    "        word_tokenize(sentence.lower())[:-1] \n",
    "        if sentence[-1]=='.'\n",
    "        else word_tokenize(sentence.lower())\n",
    "        for sentence in sentences\n",
    "    ]\n",
    "\n",
    "    ngram_list =  [\n",
    "        pair for sequence in tokenized_text for pair in list(ngrams(sequence, n)) \n",
    "    ] \n",
    "\n",
    "\n",
    "    return ngram_list\n",
    "\n",
    "def removal(x):     \n",
    "#removes ngrams containing only stopwords\n",
    "    y = []\n",
    "    for pair in x:\n",
    "        count = 0\n",
    "        for word in pair:\n",
    "            if word not in stop_words:\n",
    "                count = count or 1\n",
    "        if (count==1):\n",
    "            y.append(pair)\n",
    "    return y\n",
    "\n",
    "def ngram_stats(sentences, n_list):\n",
    "    freqs_dict = {}\n",
    "    for n in n_list:\n",
    "        ngram_list = removal(generate_ngrams(sentences, n)) # [0] needed cause otherwise it's one list per n\n",
    "        # print(ngram_list)\n",
    "        freq_n = nltk.FreqDist(ngram_list)\n",
    "        freqs_dict[n] = freq_n\n",
    "        print(f\"\"\"\n",
    "        Most common {n}-grams: {[(list(x),y) for (x,y) in freq_n.most_common(5)]}\n",
    "        \"\"\")\n",
    "    return freqs_dict\n",
    "    \n",
    "\n",
    "ngram_stats(sents, [2, 3, 4])\n",
    "\n",
    "\n"
   ]
  },
  {
   "cell_type": "code",
   "execution_count": 6,
   "metadata": {},
   "outputs": [
    {
     "name": "stdout",
     "output_type": "stream",
     "text": [
      "4335\n"
     ]
    }
   ],
   "source": [
    "print(len(sents))\n"
   ]
  },
  {
   "cell_type": "markdown",
   "metadata": {},
   "source": []
  },
  {
   "cell_type": "code",
   "execution_count": 74,
   "metadata": {},
   "outputs": [
    {
     "data": {
      "text/plain": [
       "'\\n# same functionality as above, but more \\'for loopy\\', this was the code\\n# provided in the tutorial\\n\\nunigram=[]\\n# bigram=[]\\n# trigram=[]\\n# fourgram=[]\\ntokenized_text = []\\n\\n# create \\'raw\\' list of unigrams, bigrams, etc. Do this by:\\n# 1. separating into sentences (already done, list is sents)\\n# 2. word-tokenizing sentences\\n# 3. removing periods as tokens (I already have sentences separated anyhow)\\n# 4. extend the list of N-grams (for each N) by all N-grams in each sentence\\n\\nfor sentence in sents:\\n    sentence = sentence.lower()\\n    sequence = word_tokenize(sentence) \\n    for word in sequence:\\n        if (word ==\\'.\\'):\\n            sequence.remove(word) \\n        else:\\n            unigram.append(word)\\n    tokenized_text.append(sequence) \\n    # list of lists, where each sublist is a sentence\\n    bigram.extend(list(ngrams(sequence, 2)))\\n    #trigram.extend(list(ngrams(sequence, 3)))\\n    #fourgram.extend(list(ngrams(sequence, 4)))\\n    #unigram, bigram, trigram, and fourgram models are created\\n\\n\\ndef removal(x):     \\n#removes ngrams containing only stopwords\\n    y = []\\n    for pair in x:\\n        count = 0\\n        for word in pair:\\n            if word not in stop_words:\\n                count = count or 1\\n        if (count==1):\\n            y.append(pair)\\n    return y\\n\\n# remove purely-stopword N-grams\\nbigram = removal(bigram)\\n#trigram = removal(trigram)             \\n#fourgram = removal(fourgram)\\n\\n# get freq distributions\\nfreq_bi = nltk.FreqDist(bigram)\\n#freq_tri = nltk.FreqDist(trigram)\\n#freq_four = nltk.FreqDist(fourgram)\\n\\nprint(bigram[:10])\\nprint(freq_bi)\\n\\n# print out results\\nprint(\\n    \"Most common n-grams without stopword removal and without add-1 smoothing:\"\\n)\\nprint(\" \")\\nprint (\"Most common bigrams: \", freq_bi.most_common(5))\\n# print (\"\\nMost common trigrams: \", freq_tri.most_common(5))\\n# print (\"\\nMost common fourgrams: \", freq_four.most_common(5))\\n'"
      ]
     },
     "execution_count": 74,
     "metadata": {},
     "output_type": "execute_result"
    }
   ],
   "source": [
    "old_code_hehe = \"\"\"\n",
    "# same functionality as above, but more 'for loopy', this was the code\n",
    "# provided in the tutorial\n",
    "\n",
    "unigram=[]\n",
    "# bigram=[]\n",
    "# trigram=[]\n",
    "# fourgram=[]\n",
    "tokenized_text = []\n",
    "\n",
    "# create 'raw' list of unigrams, bigrams, etc. Do this by:\n",
    "# 1. separating into sentences (already done, list is sents)\n",
    "# 2. word-tokenizing sentences\n",
    "# 3. removing periods as tokens (I already have sentences separated anyhow)\n",
    "# 4. extend the list of N-grams (for each N) by all N-grams in each sentence\n",
    "\n",
    "for sentence in sents:\n",
    "    sentence = sentence.lower()\n",
    "    sequence = word_tokenize(sentence) \n",
    "    for word in sequence:\n",
    "        if (word =='.'):\n",
    "            sequence.remove(word) \n",
    "        else:\n",
    "            unigram.append(word)\n",
    "    tokenized_text.append(sequence) \n",
    "    # list of lists, where each sublist is a sentence\n",
    "    bigram.extend(list(ngrams(sequence, 2)))\n",
    "    #trigram.extend(list(ngrams(sequence, 3)))\n",
    "    #fourgram.extend(list(ngrams(sequence, 4)))\n",
    "    #unigram, bigram, trigram, and fourgram models are created\n",
    "\n",
    "\n",
    "def removal(x):     \n",
    "#removes ngrams containing only stopwords\n",
    "    y = []\n",
    "    for pair in x:\n",
    "        count = 0\n",
    "        for word in pair:\n",
    "            if word not in stop_words:\n",
    "                count = count or 1\n",
    "        if (count==1):\n",
    "            y.append(pair)\n",
    "    return y\n",
    "\n",
    "# remove purely-stopword N-grams\n",
    "bigram = removal(bigram)\n",
    "#trigram = removal(trigram)             \n",
    "#fourgram = removal(fourgram)\n",
    "\n",
    "# get freq distributions\n",
    "freq_bi = nltk.FreqDist(bigram)\n",
    "#freq_tri = nltk.FreqDist(trigram)\n",
    "#freq_four = nltk.FreqDist(fourgram)\n",
    "\n",
    "print(bigram[:10])\n",
    "print(freq_bi)\n",
    "\n",
    "# print out results\n",
    "print(\n",
    "    \"Most common n-grams without stopword removal and without add-1 smoothing:\"\n",
    ")\n",
    "print(\" \")\n",
    "print (\"Most common bigrams: \", freq_bi.most_common(5))\n",
    "# print (\"\\nMost common trigrams: \", freq_tri.most_common(5))\n",
    "# print (\"\\nMost common fourgrams: \", freq_four.most_common(5))\n",
    "\"\"\""
   ]
  },
  {
   "cell_type": "markdown",
   "metadata": {},
   "source": [
    "# N-grams for Lovecraft"
   ]
  },
  {
   "cell_type": "code",
   "execution_count": 69,
   "metadata": {},
   "outputs": [],
   "source": [
    "url_list = [\n",
    "    \"https://www.gutenberg.org/cache/epub/68283/pg68283.txt\",\n",
    "    \"https://www.gutenberg.org/cache/epub/50133/pg50133.txt\",\n",
    "    \"https://www.gutenberg.org/cache/epub/68236/pg68236.txt\",\n",
    "    \"https://www.gutenberg.org/cache/epub/68553/pg68553.txt\",\n",
    "    \"https://www.gutenberg.org/cache/epub/70486/pg70486.txt\",\n",
    "    \"https://www.gutenberg.org/cache/epub/31469/pg31469.txt\",\n",
    "    \"https://www.gutenberg.org/cache/epub/68547/pg68547.txt\",\n",
    "]\n",
    "\n",
    "stories_raw = [\n",
    "    request.urlopen(url).read().decode('utf8') for url in url_list\n",
    "]\n"
   ]
  },
  {
   "cell_type": "code",
   "execution_count": 70,
   "metadata": {},
   "outputs": [],
   "source": [
    "import re\n",
    "\n",
    "def rmv_bracket_text(s: str):\n",
    "    in_brackets = re.findall(r'\\[.*?\\]', s)\n",
    "    for brck_txt in in_brackets:\n",
    "        s = s.replace(brck_txt, '')\n",
    "    print(s[:100])\n",
    "    return s\n",
    "    \n",
    "# print(rmv_bracket_text(\"a\"))"
   ]
  },
  {
   "cell_type": "code",
   "execution_count": 71,
   "metadata": {},
   "outputs": [
    {
     "name": "stdout",
     "output_type": "stream",
     "text": [
      "marker start = 774\n",
      "start = 832\n",
      "end = 73278\n",
      "      the call of cthulhu           of such great powers or beings there may be conceivably a     su\n",
      "marker start = 652\n",
      "start = 710\n",
      "end = 104078\n",
      "     produced by greg weeks mary meehan and the online distributed proofreading team at httpwww.pgdp\n",
      "marker start = 781\n",
      "start = 843\n",
      "end = 72012\n",
      "                              the colour out of space                                               \n",
      "marker start = 665\n",
      "start = 716\n",
      "end = 21755\n",
      "       the festival    author of dagon the rats in the walls etc.       efficiunt daemones ut quae n\n",
      "marker start = 808\n",
      "start = 863\n",
      "end = 50336\n",
      "                                 the lurking fear                                                   \n",
      "marker start = 463\n",
      "start = 520\n",
      "end = 65890\n",
      "     produced by greg weeks stephen blundell and the online distributed proofreading team at httpwww\n",
      "marker start = 645\n",
      "start = 686\n",
      "end = 25541\n",
      "      he        i saw him on a sleepless night when i was walking desperately to save my soul and my\n",
      "\n",
      "        Most common 1-grams: [(['one'], 226), (['could'], 206), (['old'], 153), (['would'], 142), (['seemed'], 136)]\n",
      "        \n",
      "\n",
      "        Most common 2-grams: [(['seemed', 'to'], 67), (['the', 'old'], 59), (['i', 'saw'], 50), (['could', 'not'], 50), (['one', 'of'], 49)]\n",
      "        \n",
      "\n",
      "        Most common 3-grams: [(['one', 'of', 'the'], 26), (['of', 'the', 'house'], 17), (['the', 'shunned', 'house'], 17), (['seemed', 'to', 'be'], 16), (['a', 'kind', 'of'], 15)]\n",
      "        \n",
      "\n",
      "        Most common 4-grams: [(['in', 'the', 'light', 'of'], 6), (['at', 'the', 'same', 'time'], 5), (['in', 'the', 'midst', 'of'], 4), (['seemed', 'to', 'be', 'a'], 4), (['what', 'seemed', 'to', 'be'], 4)]\n",
      "        \n",
      "\n",
      "        Most common 5-grams: [(['necronomicon', 'of', 'the', 'mad', 'arab'], 3), (['at', 'the', 'same', 'time', 'the'], 3), (['at', 'the', 'base', 'of', 'the'], 3), (['had', 'seen', 'it', 'in', 'the'], 3), (['a', 'century', 'and', 'a', 'half'], 3)]\n",
      "        \n"
     ]
    }
   ],
   "source": [
    "\n",
    "\n",
    "def preprocess(s):\n",
    "    to_erase = [ch for ch in string.punctuation if ch not in ['.', '[', ']']]\n",
    "    to_erase = [\n",
    "        *to_erase, \n",
    "        '“', '”', '-', '’', '‘', '—', \n",
    "        '\\r', '\\ufeff', \n",
    "        'ebook', 'the project gutenberg', 'project gutenberg',\n",
    "        'electronic', 'by h.p. lovecraft', 'by h. p. lovecraft',\n",
    "    ]\n",
    "    \n",
    "    start_marker = \"*** START OF\".lower()\n",
    "    end_marker = \"*** END OF\".lower()\n",
    "    \n",
    "    start_marker_start = s.find(start_marker)\n",
    "    \n",
    "    story_start = s[\n",
    "        start_marker_start\n",
    "        +3: ].find(\"***\") + start_marker_start\n",
    "    story_end = s.find(end_marker)\n",
    "    print(f\"marker start = {start_marker_start}\")\n",
    "    print(f\"start = {story_start}\")\n",
    "    print(f\"end = {story_end}\")\n",
    "    \n",
    "    \n",
    "    \n",
    "    s = s[\n",
    "        story_start+3: \n",
    "        story_end\n",
    "    ]\n",
    "    \n",
    "    for x in to_erase:\n",
    "        s = s.replace(x, \"\")\n",
    "    s = s.replace(\"\\n\", \" \")\n",
    "    \n",
    "    return s\n",
    "\n",
    "stories = [\n",
    "    rmv_bracket_text(\n",
    "        preprocess(\n",
    "            story.lower()\n",
    "        )\n",
    "    ) for story in stories_raw\n",
    "]\n",
    "data = \" \".join(stories)\n",
    "\n",
    "# # that's the first sentence in the story\n",
    "# cthulu_raw = cthulu_raw[\n",
    "#     cthulu_raw.find(start_marker):cthulu_raw.find(end_marker)\n",
    "# ] # dont include all the blah blah about project gutenberg\n",
    "\n",
    "sentences = nltk.sent_tokenize(data)\n",
    "# print(sents)\n",
    "freq_d = ngram_stats(sentences, [1, 2, 3, 4, 5])"
   ]
  },
  {
   "cell_type": "code",
   "execution_count": 73,
   "metadata": {},
   "outputs": [
    {
     "data": {
      "image/png": "[encoded data removed]",
      "text/plain": [
       "<Figure size 432x288 with 1 Axes>"
      ]
     },
     "metadata": {
      "needs_background": "light"
     },
     "output_type": "display_data"
    },
    {
     "data": {
      "text/plain": [
       "<AxesSubplot:xlabel='Samples', ylabel='Counts'>"
      ]
     },
     "execution_count": 73,
     "metadata": {},
     "output_type": "execute_result"
    }
   ],
   "source": [
    "freq_d[2].plot(20)"
   ]
  },
  {
   "cell_type": "code",
   "execution_count": null,
   "metadata": {},
   "outputs": [],
   "source": []
  }
 ],
 "metadata": {
  "kernelspec": {
   "display_name": "Python 3",
   "language": "python",
   "name": "python3"
  },
  "language_info": {
   "codemirror_mode": {
    "name": "ipython",
    "version": 3
   },
   "file_extension": ".py",
   "mimetype": "text/x-python",
   "name": "python",
   "nbconvert_exporter": "python",
   "pygments_lexer": "ipython3",
   "version": "3.7.6"
  }
 },
 "nbformat": 4,
 "nbformat_minor": 2
}
